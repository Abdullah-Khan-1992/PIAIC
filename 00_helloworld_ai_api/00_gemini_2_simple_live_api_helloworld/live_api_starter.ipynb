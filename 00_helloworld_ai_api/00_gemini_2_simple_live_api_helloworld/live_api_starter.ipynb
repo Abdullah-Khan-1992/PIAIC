{
  "cells": [
    {
      "cell_type": "markdown",
      "metadata": {
        "id": "view-in-github",
        "colab_type": "text"
      },
      "source": [
        "<a href=\"https://colab.research.google.com/github/Abdullah-Khan-1992/Piaic/blob/main/00_helloworld_ai_api/00_gemini_2_simple_live_api_helloworld/live_api_starter.ipynb\" target=\"_parent\"><img src=\"https://colab.research.google.com/assets/colab-badge.svg\" alt=\"Open In Colab\"/></a>"
      ]
    },
    {
      "cell_type": "markdown",
      "metadata": {
        "id": "Tce3stUlHN0L"
      },
      "source": [
        "##### Copyright 2024 Google LLC."
      ]
    },
    {
      "cell_type": "code",
      "execution_count": null,
      "metadata": {
        "cellView": "form",
        "id": "tuOe1ymfHZPu"
      },
      "outputs": [],
      "source": [
        "#@title Licensed under the Apache License, Version 2.0 (the \"License\");\n",
        "# you may not use this file except in compliance with the License.\n",
        "# You may obtain a copy of the License at\n",
        "#\n",
        "# https://www.apache.org/licenses/LICENSE-2.0\n",
        "#\n",
        "# Unless required by applicable law or agreed to in writing, software\n",
        "# distributed under the License is distributed on an \"AS IS\" BASIS,\n",
        "# WITHOUT WARRANTIES OR CONDITIONS OF ANY KIND, either express or implied.\n",
        "# See the License for the specific language governing permissions and\n",
        "# limitations under the License."
      ]
    },
    {
      "cell_type": "markdown",
      "metadata": {
        "id": "R5DkeFMP75as"
      },
      "source": [
        "# Live API - Quickstart"
      ]
    },
    {
      "cell_type": "markdown",
      "metadata": {
        "id": "tqktCVDm1yFo"
      },
      "source": [
        "<table align=\"left\">\n",
        "  <td>\n",
        "    <a target=\"_blank\" href=\"https://colab.research.google.com/github/panaversity/learn-agentic-ai/blob/main/00_helloworld_ai_api/00_gemini_2_simple_live_api_helloworld/live_api_starter.ipynb\"><img src=\"https://ai.google.dev/site-assets/images/docs/colab_logo_32px.png\" />Run in Google Colab</a>\n",
        "  </td>\n",
        "</table>"
      ]
    },
    {
      "cell_type": "markdown",
      "metadata": {
        "id": "iS0rHk3RBrtA"
      },
      "source": [
        "# Google Gen AI SDK (experimental)\n",
        "The new Google Gen AI SDK provides a unified interface to Gemini 2.0 through both the Gemini Developer API and the Gemini API on Vertex AI. With a few exceptions, code that runs on one platform will run on both. This means that you can prototype an application using the Developer API and then migrate the application to Vertex AI without rewriting your code.\n",
        "\n",
        "The Gen AI SDK also supports the Gemini 1.5 models.\n",
        "\n",
        "The new SDK is available in Python and Go, with Java and JavaScript coming soon.\n",
        "\n",
        "You can start using the SDK as shown below.\n",
        "\n",
        "Install the new SDK: pip install google-genai\n",
        "\n",
        "Then import the library, initialize a client, and generate content:"
      ]
    },
    {
      "cell_type": "markdown",
      "metadata": {
        "id": "Mfk6YY3G5kqp"
      },
      "source": [
        "## Setup"
      ]
    },
    {
      "cell_type": "markdown",
      "metadata": {
        "id": "d5027929de8f"
      },
      "source": [
        "### Install SDK\n",
        "\n",
        "The new **[Google Gen AI SDK](https://ai.google.dev/gemini-api/docs/sdks)** provides programmatic access to Gemini 2.0 (and previous models) using both the [Google AI for Developers](https://ai.google.dev/gemini-api/docs) and [Vertex AI](https://cloud.google.com/vertex-ai/generative-ai/docs/overview) APIs. With a few exceptions, code that runs on one platform will run on both.\n",
        "\n",
        "More details about this new SDK on the [documentation](https://ai.google.dev/gemini-api/docs/sdks) or in the [Getting started](../gemini-2/get_started.ipynb) notebook."
      ]
    },
    {
      "cell_type": "code",
      "execution_count": 2,
      "metadata": {
        "id": "46zEFO2a9FFd"
      },
      "outputs": [],
      "source": [
        "!pip install -U -q google-genai"
      ]
    },
    {
      "cell_type": "markdown",
      "metadata": {
        "id": "CTIfnvCn9HvH"
      },
      "source": [
        "### Set up your API key\n",
        "\n",
        "To run the following cell, your API key must be stored in a Colab Secret named `GOOGLE_API_KEY`. If you don't already have an API key, or you're not sure how to create a Colab Secret, see [Authentication](../quickstarts/Authentication.ipynb) for an example."
      ]
    },
    {
      "cell_type": "code",
      "execution_count": 3,
      "metadata": {
        "id": "A1pkoyZb9Jm3"
      },
      "outputs": [],
      "source": [
        "from google.colab import userdata\n",
        "import os\n",
        "\n",
        "os.environ['GOOGLE_API_KEY'] = userdata.get('GOOGLE_API_KEY')"
      ]
    },
    {
      "cell_type": "markdown",
      "metadata": {
        "id": "GOOZsm7i9io6"
      },
      "source": [
        "### Import\n",
        "\n",
        "Import all the necessary modules."
      ]
    },
    {
      "cell_type": "code",
      "execution_count": 4,
      "metadata": {
        "id": "Yd1vs3cP8EmS"
      },
      "outputs": [],
      "source": [
        "from google import genai"
      ]
    },
    {
      "cell_type": "markdown",
      "metadata": {
        "id": "3Hx_Gw9i0Yuv"
      },
      "source": [
        "### Initialize SDK client\n",
        "\n",
        "The client will pick up your API key from the environment variable.\n",
        "To use the live API you need to set the client version to `v1alpha`."
      ]
    },
    {
      "cell_type": "code",
      "execution_count": 5,
      "metadata": {
        "id": "HghvVpbU0Uap"
      },
      "outputs": [],
      "source": [
        "from google import genai\n",
        "client = genai.Client()"
      ]
    },
    {
      "cell_type": "markdown",
      "metadata": {
        "id": "QOov6dpG99rY"
      },
      "source": [
        "### Select a model\n",
        "\n",
        "Multimodal Live API are a new capability introduced with the [Gemini 2.0](https://ai.google.dev/gemini-api/docs/models/gemini-v2) model. It won't work with previous generation models.\n"
      ]
    },
    {
      "cell_type": "code",
      "execution_count": 6,
      "metadata": {
        "id": "27Fikag0xSaB"
      },
      "outputs": [],
      "source": [
        "MODEL: str = \"gemini-2.0-flash-exp\""
      ]
    },
    {
      "cell_type": "markdown",
      "metadata": {
        "id": "jj7gDzfDOq4h"
      },
      "source": [
        "## Text to Text\n",
        "\n",
        "The simplest way to use the Live API is as a text-to-text chat interface, but it can do **a lot** more than this."
      ]
    },
    {
      "cell_type": "code",
      "execution_count": 7,
      "metadata": {
        "colab": {
          "base_uri": "https://localhost:8080/"
        },
        "id": "dDfslcyIOqgI",
        "outputId": "f1a898f8-60ed-4e96-89c0-108e3a064277"
      },
      "outputs": [
        {
          "output_type": "stream",
          "name": "stdout",
          "text": [
            "Okay, let's break down how AI works, aiming for a clear and understandable explanation. It's a broad topic, so we'll cover the key concepts and avoid getting bogged down in too much technical detail.\n",
            "\n",
            "**At its Core: Learning from Data**\n",
            "\n",
            "The fundamental idea behind most AI systems is that they **learn from data** to perform tasks. Instead of being explicitly programmed with every single rule, they are trained on vast amounts of data, allowing them to identify patterns and make predictions or decisions.\n",
            "\n",
            "Think of it like learning to ride a bike:\n",
            "\n",
            "* **Traditional Programming:** You'd try to write out every single instruction: \"Turn the handlebars slightly right, pedal harder, lean left a bit...\" This is incredibly difficult and rigid.\n",
            "* **AI (Machine Learning):** You might start by falling down a lot (data!). Over time, you learn through trial and error (the learning process) how to balance and steer. This is analogous to how AI algorithms work.\n",
            "\n",
            "**Key Components of AI:**\n",
            "\n",
            "Here's a breakdown of the main concepts:\n",
            "\n",
            "1. **Machine Learning (ML):** This is a subset of AI that focuses on algorithms that learn from data without being explicitly programmed. It's the most common approach used today.\n",
            "\n",
            "    * **Types of Machine Learning:**\n",
            "        * **Supervised Learning:** The algorithm is trained on labeled data (e.g., pictures of cats and dogs, each labeled correctly). It learns to associate features with those labels and then predict new labels for unseen data. Think of it like teaching a child by showing them examples and telling them what they are.\n",
            "        * **Unsupervised Learning:** The algorithm is given unlabeled data and is tasked with finding patterns, groupings, or structures within it. Think of it like a scientist exploring a new dataset, trying to find hidden relationships.\n",
            "        * **Reinforcement Learning:** The algorithm learns through trial and error, receiving rewards or penalties for its actions in an environment. Think of training a dog with treats.\n",
            "2. **Data:** The fuel for AI. The more data available, the better the AI can learn. This data can be in various forms:\n",
            "    * **Text:** Documents, articles, social media posts, code\n",
            "    * **Images:** Photos, videos, scans\n",
            "    * **Audio:** Speech, music\n",
            "    * **Numerical Data:** Sensor readings, financial data, customer information\n",
            "3. **Algorithms:** These are the specific procedures that the AI uses to learn from the data. There are many different types, each suited to different tasks. Common algorithms include:\n",
            "    * **Linear Regression:** For predicting numerical values.\n",
            "    * **Logistic Regression:** For classifying data into categories.\n",
            "    * **Decision Trees:** For making decisions based on a series of choices.\n",
            "    * **Support Vector Machines (SVMs):** For complex classification tasks.\n",
            "    * **Neural Networks:** Inspired by the structure of the human brain, very powerful for complex tasks (see below).\n",
            "4. **Neural Networks (NN):** A type of ML algorithm that forms the foundation of many advanced AI systems.\n",
            "    * **Artificial Neurons:** These are the building blocks of NNs, mimicking the neurons in the brain. They take inputs, process them, and produce an output.\n",
            "    * **Layers:** Neurons are arranged in layers (input, hidden, and output). The hidden layers learn increasingly complex features from the data.\n",
            "    * **Deep Learning:** Refers to neural networks with many layers, enabling them to learn very complex relationships and perform tasks like image recognition, natural language processing, and more.\n",
            "\n",
            "**The Learning Process:**\n",
            "\n",
            "1. **Data Input:** The AI receives a dataset.\n",
            "2. **Feature Extraction:** The AI identifies the relevant features in the data that help it learn.\n",
            "3. **Training:** The algorithm is trained on the data. This involves:\n",
            "    * **Forward Propagation:** The algorithm makes a prediction based on its current knowledge.\n",
            "    * **Loss Calculation:** The difference between the prediction and the actual result is calculated (the \"loss\" or \"error\").\n",
            "    * **Backpropagation:** The algorithm adjusts its internal parameters based on the loss to improve its predictions.\n",
            "4. **Iteration:** The training process is repeated many times until the AI reaches an acceptable level of accuracy.\n",
            "5. **Evaluation:** The AI's performance is tested on new, unseen data to ensure it generalizes well.\n",
            "\n",
            "**How AI is Used:**\n",
            "\n",
            "AI is being used in a multitude of ways, including:\n",
            "\n",
            "* **Image Recognition:** Identifying objects in images, facial recognition, medical image analysis.\n",
            "* **Natural Language Processing (NLP):** Understanding and generating human language, translation, chatbots.\n",
            "* **Speech Recognition:** Converting spoken language into text, voice assistants.\n",
            "* **Recommendation Systems:** Suggesting products, movies, music.\n",
            "* **Self-Driving Cars:** Navigating vehicles autonomously.\n",
            "* **Medical Diagnosis:** Assisting doctors in detecting diseases.\n",
            "* **Fraud Detection:** Identifying unusual financial transactions.\n",
            "\n",
            "**Important Considerations:**\n",
            "\n",
            "* **Bias:** AI systems can be biased if the data they are trained on reflects existing societal biases.\n",
            "* **Explainability:** Some AI systems, especially deep learning models, can be \"black boxes\" where it's hard to understand why they make certain decisions.\n",
            "* **Ethical Concerns:** It's crucial to consider the ethical implications of AI development and deployment.\n",
            "\n",
            "**In Summary:**\n",
            "\n",
            "AI relies on the ability of computers to learn from data. Machine learning, particularly deep learning with neural networks, is a powerful approach. While complex behind the scenes, the core concept is about enabling machines to identify patterns and make decisions based on vast amounts of information.\n",
            "\n",
            "Hopefully, this explanation provides a good overview of how AI works! Let me know if you have any more questions.\n",
            "\n"
          ]
        }
      ],
      "source": [
        "response = client.models.generate_content(\n",
        "    model=MODEL,\n",
        "    contents='How does AI work?'\n",
        ")\n",
        "print(response.text)"
      ]
    }
  ],
  "metadata": {
    "colab": {
      "collapsed_sections": [
        "Tce3stUlHN0L"
      ],
      "provenance": [],
      "include_colab_link": true
    },
    "kernelspec": {
      "display_name": "Python 3",
      "name": "python3"
    }
  },
  "nbformat": 4,
  "nbformat_minor": 0
}